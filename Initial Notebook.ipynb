{
 "cells": [
  {
   "cell_type": "code",
   "execution_count": 24,
   "metadata": {},
   "outputs": [],
   "source": [
    "!pip install -q sympy\n",
    "!pip install -q nbinteract\n",
    "\n",
    "import sympy\n",
    "solve = lambda x,y: sympy.solve(x-y)[0] if len(sympy.solve(x-y))==1 else \"Not Single Solution\"\n",
    "import matplotlib.pyplot as plt\n",
    "plt.style.use('ggplot')\n",
    "%matplotlib inline\n",
    "\n",
    "from ipywidgets import interact, interactive, fixed, interact_manual\n",
    "import ipywidgets as widgets\n",
    "from IPython.display import display\n",
    "import nbinteract as nbi\n",
    "import numpy as np\n",
    "\n",
    "import warnings\n",
    "warnings.filterwarnings('ignore')"
   ]
  },
  {
   "cell_type": "markdown",
   "metadata": {},
   "source": [
    "# Supply, Demand, and Equilibrium\n",
    "\n",
    "## Set-up\n",
    "\n",
    "With this notebook, we are going to plot and solve equations, hopefully giving some more hands on exposure to the materials that you've already seen in class. **To get started, in the menu above, click `Cell` and select `Run All` from the drop-down menu, then you should be good to go!**\n",
    "\n",
    "The traditional demand and supply equations follow the form $ Quantity = f(Price)$, where the quantity of a good demanded or supplied is a function of its price. An example of a demand equation (indicated by the use of $_d$'s) is below:\n",
    "\n",
    "$$Quantity_{d}=-5 * Price_{d} + 3$$\n",
    "\n",
    "*Note: The interpretation of this equation is that for every unit that price increases, we see a five unit decrease in the quantity demanded, meaning that there is a negative relationship between the two variables. This intuitively makes sense and is often the case for demand equations -- as a good goes up in price, all else equal, less of that product will be bought. Though there are some instances where this is not the case, and it is likely that the relationship would not follow a straight line, the general relationships and concepts are displayed with our simple case.*\n",
    "\n",
    "In order to be able to plot with price on the y-axis and quantity on the x-axis, we need to shift around our equations. We will use the inverse-supply and inverse-demand equations, which follow the form $ Price = f(Quantity)$. Below we've taken the example demand equation from above and changed it into the inverse-demand form by solving the equation for price. It might be a good exercise to do this by hand.\n",
    "\n",
    "$$Price_{d}=-1/5*Quantity_{d}+3/5$$"
   ]
  },
  {
   "cell_type": "markdown",
   "metadata": {},
   "source": [
    "## Solving Equations with SymPy\n",
    "\n",
    "In order to treat variables like the symbols you would using pen and paper, we have to declare them as such first. We are going to use the inverse forms, so our equations will both be a function of quantity. We create a variable for quantity below."
   ]
  },
  {
   "cell_type": "code",
   "execution_count": 25,
   "metadata": {},
   "outputs": [],
   "source": [
    "Q = sympy.Symbol(\"Q\")"
   ]
  },
  {
   "cell_type": "markdown",
   "metadata": {},
   "source": [
    "Now when we call this variable, we can see that it is a symbolic variable, and not some other Python type."
   ]
  },
  {
   "cell_type": "code",
   "execution_count": 26,
   "metadata": {},
   "outputs": [
    {
     "data": {
      "text/plain": [
       "Q"
      ]
     },
     "execution_count": 26,
     "metadata": {},
     "output_type": "execute_result"
    }
   ],
   "source": [
    "Q"
   ]
  },
  {
   "cell_type": "markdown",
   "metadata": {},
   "source": [
    "And with our symbol, we can set up simple expressions."
   ]
  },
  {
   "cell_type": "code",
   "execution_count": 27,
   "metadata": {},
   "outputs": [
    {
     "data": {
      "text/plain": [
       "Q**2"
      ]
     },
     "execution_count": 27,
     "metadata": {},
     "output_type": "execute_result"
    }
   ],
   "source": [
    "Q*Q"
   ]
  },
  {
   "cell_type": "code",
   "execution_count": 28,
   "metadata": {},
   "outputs": [
    {
     "data": {
      "text/plain": [
       "Q + 5"
      ]
     },
     "execution_count": 28,
     "metadata": {},
     "output_type": "execute_result"
    }
   ],
   "source": [
    "Q+5"
   ]
  },
  {
   "cell_type": "code",
   "execution_count": 29,
   "metadata": {},
   "outputs": [
    {
     "data": {
      "text/plain": [
       "2*Q"
      ]
     },
     "execution_count": 29,
     "metadata": {},
     "output_type": "execute_result"
    }
   ],
   "source": [
    "Q+Q"
   ]
  },
  {
   "cell_type": "markdown",
   "metadata": {},
   "source": [
    "The expression for our inverse-supply equation will be"
   ]
  },
  {
   "cell_type": "code",
   "execution_count": 30,
   "metadata": {},
   "outputs": [
    {
     "data": {
      "text/plain": [
       "3*Q + 4"
      ]
     },
     "execution_count": 30,
     "metadata": {},
     "output_type": "execute_result"
    }
   ],
   "source": [
    "Q*3 + 4"
   ]
  },
  {
   "cell_type": "markdown",
   "metadata": {},
   "source": [
    "So we will give that expression a name, `supply`."
   ]
  },
  {
   "cell_type": "code",
   "execution_count": 60,
   "metadata": {},
   "outputs": [
    {
     "data": {
      "text/plain": [
       "3*Q + 4"
      ]
     },
     "execution_count": 60,
     "metadata": {},
     "output_type": "execute_result"
    }
   ],
   "source": [
    "supply = 3*Q + 4\n",
    "supply"
   ]
  },
  {
   "cell_type": "markdown",
   "metadata": {},
   "source": [
    "We can then substitue in values for our quantity variable. We do so in the following cell. Using the method `subs`, we take the equation we already defined, `supply`, and plug in the value 3 in place of `Q`."
   ]
  },
  {
   "cell_type": "code",
   "execution_count": 61,
   "metadata": {},
   "outputs": [
    {
     "data": {
      "text/plain": [
       "13"
      ]
     },
     "execution_count": 61,
     "metadata": {},
     "output_type": "execute_result"
    }
   ],
   "source": [
    "supply.subs(Q, 3)"
   ]
  },
  {
   "cell_type": "markdown",
   "metadata": {},
   "source": [
    "Next we'll define an inverse-demand equation."
   ]
  },
  {
   "cell_type": "code",
   "execution_count": 62,
   "metadata": {},
   "outputs": [
    {
     "data": {
      "text/plain": [
       "-4*Q + 15"
      ]
     },
     "execution_count": 62,
     "metadata": {},
     "output_type": "execute_result"
    }
   ],
   "source": [
    "demand = -4*Q+15\n",
    "demand"
   ]
  },
  {
   "cell_type": "markdown",
   "metadata": {},
   "source": [
    "We are now able to take our supply and demand equations and find where they intersect. When we use the `solve` function, it will tell us the x-value of the point where the two lines intercept. This is the equilibrium quantity, which we will call that value `Q_star`."
   ]
  },
  {
   "cell_type": "code",
   "execution_count": 63,
   "metadata": {},
   "outputs": [
    {
     "data": {
      "text/plain": [
       "11/7"
      ]
     },
     "execution_count": 63,
     "metadata": {},
     "output_type": "execute_result"
    }
   ],
   "source": [
    "Q_star = solve(demand, supply) # our version of solve is simplified for single solution systems\n",
    "Q_star"
   ]
  },
  {
   "cell_type": "markdown",
   "metadata": {},
   "source": [
    "We can then substitute `Q_star` back into our original inverse-supply and inverse-demand equations to solve for our equilibrium price."
   ]
  },
  {
   "cell_type": "code",
   "execution_count": 52,
   "metadata": {},
   "outputs": [
    {
     "data": {
      "text/plain": [
       "91/9"
      ]
     },
     "execution_count": 52,
     "metadata": {},
     "output_type": "execute_result"
    }
   ],
   "source": [
    "demand.subs(Q, Q_star)"
   ]
  },
  {
   "cell_type": "code",
   "execution_count": 53,
   "metadata": {},
   "outputs": [
    {
     "data": {
      "text/plain": [
       "91/9"
      ]
     },
     "execution_count": 53,
     "metadata": {},
     "output_type": "execute_result"
    }
   ],
   "source": [
    "supply.subs(Q, Q_star)"
   ]
  },
  {
   "cell_type": "markdown",
   "metadata": {},
   "source": [
    "## Visualizing those supply and demand equations"
   ]
  },
  {
   "cell_type": "code",
   "execution_count": 54,
   "metadata": {},
   "outputs": [
    {
     "data": {
      "image/png": "[encoded data removed]",
      "text/plain": [
       "<matplotlib.figure.Figure at 0x11916b8d0>"
      ]
     },
     "metadata": {},
     "output_type": "display_data"
    }
   ],
   "source": [
    "def plot_equation(equation, price_start, price_end, label=None):\n",
    "    plot_prices = [price_start, price_end]\n",
    "    plot_quantities = [equation.subs(list(equation.free_symbols)[0], c) for c in plot_prices]\n",
    "    plt.plot(plot_prices, plot_quantities, label=label)\n",
    "    \n",
    "def plot_intercept(eq1, eq2):\n",
    "    ex = sympy.solve(eq1-eq2)[0]\n",
    "    why = eq1.subs(list(eq1.free_symbols)[0], ex)\n",
    "    plt.scatter([ex], [why])\n",
    "    return (ex, why)\n",
    "    \n",
    "plot_equation(demand, -10, 10)\n",
    "plot_equation(supply, -10, 10)\n",
    "plot_intercept(supply, demand);"
   ]
  },
  {
   "cell_type": "markdown",
   "metadata": {},
   "source": [
    "## Adding Sliders"
   ]
  },
  {
   "cell_type": "code",
   "execution_count": 55,
   "metadata": {},
   "outputs": [
    {
     "name": "stdout",
     "output_type": "stream",
     "text": [
      "Enabling notebook extension jupyter-js-widgets/extension...\r\n",
      "      - Validating: \u001b[32mOK\u001b[0m\r\n"
     ]
    }
   ],
   "source": [
    "!jupyter nbextension enable --py widgetsnbextension"
   ]
  },
  {
   "cell_type": "code",
   "execution_count": 56,
   "metadata": {
    "scrolled": true,
    "tags": [
     "remove_input"
    ]
   },
   "outputs": [
    {
     "data": {
      "application/vnd.jupyter.widget-view+json": {
       "model_id": "c6964af59e7a4fa29165f9efa7b2adc4",
       "version_major": 2,
       "version_minor": 0
      },
      "text/html": [
       "<p>Failed to display Jupyter Widget of type <code>VBox</code>.</p>\n",
       "<p>\n",
       "  If you're reading this message in the Jupyter Notebook or JupyterLab Notebook, it may mean\n",
       "  that the widgets JavaScript is still loading. If this message persists, it\n",
       "  likely means that the widgets JavaScript library is either not installed or\n",
       "  not enabled. See the <a href=\"https://ipywidgets.readthedocs.io/en/stable/user_install.html\">Jupyter\n",
       "  Widgets Documentation</a> for setup instructions.\n",
       "</p>\n",
       "<p>\n",
       "  If you're reading this message in another frontend (for example, a static\n",
       "  rendering on GitHub or <a href=\"https://nbviewer.jupyter.org/\">NBViewer</a>),\n",
       "  it may mean that your frontend doesn't currently support widgets.\n",
       "</p>\n"
      ],
      "text/plain": [
       "VBox(children=(HTML(value='<p style=\"line-height:18px;\">What can cause a rightward shift in the demand curve?</p>'), HBox(children=(Button(layout=Layout(height='20px', padding='0', width='20px'), style=ButtonStyle()), HTML(value='<p style=\"line-height:18px;\">The enactment of a price ceiling</p>')), layout=Layout(align_items='center')), HBox(children=(Button(layout=Layout(height='20px', padding='0', width='20px'), style=ButtonStyle()), HTML(value='<p style=\"line-height:18px;\">The invention of more efficient manufacturing process</p>')), layout=Layout(align_items='center')), HBox(children=(Button(layout=Layout(height='20px', padding='0', width='20px'), style=ButtonStyle()), HTML(value='<p style=\"line-height:18px;\">A change in consumer preferences</p>')), layout=Layout(align_items='center'))))"
      ]
     },
     "metadata": {},
     "output_type": "display_data"
    }
   ],
   "source": [
    "nbi.multiple_choice(question=\"What can cause a rightward shift in the demand curve?\",\n",
    "                    choices=['The enactment of a price ceiling', 'The invention of more efficient manufacturing process', 'A change in consumer preferences'],\n",
    "                    answers=2)"
   ]
  },
  {
   "cell_type": "code",
   "execution_count": 57,
   "metadata": {},
   "outputs": [
    {
     "name": "stdout",
     "output_type": "stream",
     "text": [
      "Enabling notebook extension jupyter-js-widgets/extension...\r\n",
      "      - Validating: \u001b[32mOK\u001b[0m\r\n"
     ]
    }
   ],
   "source": [
    "!jupyter nbextension enable --py --sys-prefix widgetsnbextension"
   ]
  },
  {
   "cell_type": "code",
   "execution_count": 58,
   "metadata": {},
   "outputs": [
    {
     "data": {
      "application/vnd.jupyter.widget-view+json": {
       "model_id": "7abaea464a6c4d56a79f62e562660352",
       "version_major": 2,
       "version_minor": 0
      },
      "text/html": [
       "<p>Failed to display Jupyter Widget of type <code>IntSlider</code>.</p>\n",
       "<p>\n",
       "  If you're reading this message in the Jupyter Notebook or JupyterLab Notebook, it may mean\n",
       "  that the widgets JavaScript is still loading. If this message persists, it\n",
       "  likely means that the widgets JavaScript library is either not installed or\n",
       "  not enabled. See the <a href=\"https://ipywidgets.readthedocs.io/en/stable/user_install.html\">Jupyter\n",
       "  Widgets Documentation</a> for setup instructions.\n",
       "</p>\n",
       "<p>\n",
       "  If you're reading this message in another frontend (for example, a static\n",
       "  rendering on GitHub or <a href=\"https://nbviewer.jupyter.org/\">NBViewer</a>),\n",
       "  it may mean that your frontend doesn't currently support widgets.\n",
       "</p>\n"
      ],
      "text/plain": [
       "IntSlider(value=0)"
      ]
     },
     "metadata": {},
     "output_type": "display_data"
    }
   ],
   "source": [
    "widgets.IntSlider()"
   ]
  },
  {
   "cell_type": "code",
   "execution_count": 59,
   "metadata": {
    "scrolled": false
   },
   "outputs": [
    {
     "data": {
      "application/vnd.jupyter.widget-view+json": {
       "model_id": "fcd11126e17945c39ef3992775ed886d",
       "version_major": 2,
       "version_minor": 0
      },
      "text/html": [
       "<p>Failed to display Jupyter Widget of type <code>interactive</code>.</p>\n",
       "<p>\n",
       "  If you're reading this message in the Jupyter Notebook or JupyterLab Notebook, it may mean\n",
       "  that the widgets JavaScript is still loading. If this message persists, it\n",
       "  likely means that the widgets JavaScript library is either not installed or\n",
       "  not enabled. See the <a href=\"https://ipywidgets.readthedocs.io/en/stable/user_install.html\">Jupyter\n",
       "  Widgets Documentation</a> for setup instructions.\n",
       "</p>\n",
       "<p>\n",
       "  If you're reading this message in another frontend (for example, a static\n",
       "  rendering on GitHub or <a href=\"https://nbviewer.jupyter.org/\">NBViewer</a>),\n",
       "  it may mean that your frontend doesn't currently support widgets.\n",
       "</p>\n"
      ],
      "text/plain": [
       "interactive(children=(IntSlider(value=0, description='shift', max=12, min=-12, step=3), Output()), _dom_classes=('widget-interact',))"
      ]
     },
     "metadata": {},
     "output_type": "display_data"
    }
   ],
   "source": [
    "# need to move supply to outside of functions (for interchangability)\n",
    "# add in equilibriums\n",
    "\n",
    "def shift_demand():\n",
    "    equation = demand\n",
    "    def shift_helper(shift):\n",
    "        plot_equation(equation, -10, 10)\n",
    "        plot_equation(supply, -10, 10)\n",
    "        old = plot_intercept(equation, supply)\n",
    "        print('Original Intercept:', old)\n",
    "        \n",
    "        if shift != 0:\n",
    "            plot_equation(equation + shift, -10, 10, 'shifted')\n",
    "            new = plot_intercept(equation + shift, supply)\n",
    "            print('New intercept:', new)\n",
    "            print('Change in Quantity:', round(float(new[0]-old[0]), 2))\n",
    "            print('Change in Price:', round(float(new[1]-old[1]), 2))\n",
    "        else:\n",
    "            print('Nothing shifted yet, use the slider to move the line!')\n",
    "        plt.xlim(-10,10)\n",
    "        plt.ylim(-10,30)\n",
    "        plt.legend()\n",
    "    interact(shift_helper, shift=(-12, 12, 3))\n",
    "\n",
    "shift_demand()"
   ]
  },
  {
   "cell_type": "markdown",
   "metadata": {},
   "source": [
    "## Consumer and Producer Surplus"
   ]
  },
  {
   "cell_type": "code",
   "execution_count": 86,
   "metadata": {},
   "outputs": [
    {
     "data": {
      "application/vnd.jupyter.widget-view+json": {
       "model_id": "904763982a2a445bb83a14eeae372333",
       "version_major": 2,
       "version_minor": 0
      },
      "text/html": [
       "<p>Failed to display Jupyter Widget of type <code>interactive</code>.</p>\n",
       "<p>\n",
       "  If you're reading this message in the Jupyter Notebook or JupyterLab Notebook, it may mean\n",
       "  that the widgets JavaScript is still loading. If this message persists, it\n",
       "  likely means that the widgets JavaScript library is either not installed or\n",
       "  not enabled. See the <a href=\"https://ipywidgets.readthedocs.io/en/stable/user_install.html\">Jupyter\n",
       "  Widgets Documentation</a> for setup instructions.\n",
       "</p>\n",
       "<p>\n",
       "  If you're reading this message in another frontend (for example, a static\n",
       "  rendering on GitHub or <a href=\"https://nbviewer.jupyter.org/\">NBViewer</a>),\n",
       "  it may mean that your frontend doesn't currently support widgets.\n",
       "</p>\n"
      ],
      "text/plain": [
       "interactive(children=(IntSlider(value=10, description='demandParam', max=15, min=5), IntSlider(value=10, description='supplyParam', max=20, min=1), IntSlider(value=0, description='priceStart', max=5, min=-5), Output()), _dom_classes=('widget-interact',))"
      ]
     },
     "metadata": {},
     "output_type": "display_data"
    }
   ],
   "source": [
    "import sympy\n",
    "import matplotlib.pyplot as plt\n",
    "import matplotlib.patches as patches\n",
    "p = sympy.Symbol(\"p\")\n",
    "def Equilibrium(demandParam, supplyParam, priceStart):\n",
    "    demandEquation = demandParam - p\n",
    "    # change the slope\n",
    "    supplyEquation = p * (supplyParam/10)\n",
    "    priceEnd = sympy.solve(demandEquation)[0]\n",
    "    prices = []\n",
    "    demandQ = []\n",
    "    supplyQ = []\n",
    "    for price in range(priceStart,priceEnd+1):\n",
    "        prices += [price]\n",
    "        demandQ += [demandEquation.subs(p,price)]\n",
    "        supplyQ += [supplyEquation.subs(p,price)]\n",
    "    \n",
    "    equilibriumP = sympy.solve(demandEquation-supplyEquation)[0]\n",
    "    equilibriumQ = demandEquation.subs(p,equilibriumP)\n",
    "    \n",
    "    \n",
    "    \n",
    "    triangle1 = patches.Polygon([[equilibriumQ,equilibriumP],[0,equilibriumP],[0,priceEnd]],True,color=\"green\")\n",
    "    triangle2 = patches.Polygon([[equilibriumQ,equilibriumP],[0,equilibriumP],[0,0]],True,color=\"red\")\n",
    "    currentAxis = plt.gca()\n",
    "    currentAxis.add_patch(triangle1)\n",
    "    currentAxis.add_patch(triangle2)\n",
    "    \n",
    "    plt.plot(demandQ,prices)\n",
    "    plt.plot(supplyQ,prices)\n",
    "    plt.legend([\"Demand\",\"Supply\"])\n",
    "    plt.plot(equilibriumQ,equilibriumP, 'ro')\n",
    "    plt.xlabel(\"Supply and Demand Quantity\")\n",
    "    plt.ylabel(\"Price\")\n",
    "    plt.ylim(0, 15)\n",
    "    plt.xlim(0, 10)\n",
    "    plt.show()\n",
    "    print(\"The equilibrium price is \"+str(equilibriumP)+\" and equilibrium quantity is \"+str(equilibriumQ)+\".\")\n",
    "    print(\"The consumer surplus at this equilibrium \"+ str(round((priceEnd-equilibriumP)*(equilibriumQ)*.5, 2)))\n",
    "    print(\"The producer surplus at this equilibrium \"+str(round((equilibriumP)*(equilibriumQ)*.5, 2)))\n",
    "slider1 = widgets.IntSlider(min=5, max=15,step=1,value=10)\n",
    "slider2 = widgets.IntSlider(min=1, max=20,step=1,value=10)\n",
    "slider3 = widgets.IntSlider(min=-5, max=5,step=1,value=0)\n",
    "display(widgets.interactive(Equilibrium, demandParam=slider1, supplyParam=slider2, priceStart=slider3))"
   ]
  },
  {
   "cell_type": "markdown",
   "metadata": {},
   "source": [
    "## Shifts in Intercept"
   ]
  },
  {
   "cell_type": "code",
   "execution_count": null,
   "metadata": {},
   "outputs": [],
   "source": []
  },
  {
   "cell_type": "markdown",
   "metadata": {},
   "source": [
    "## Effects of Taxes, Tariffs, Floors, and Ceilings"
   ]
  },
  {
   "cell_type": "code",
   "execution_count": 21,
   "metadata": {},
   "outputs": [],
   "source": [
    "def eqSolve(eq1,eq2,tax):\n",
    "    demandP = sympy.solve(eq1-q,p)[0]\n",
    "    supplyP = sympy.solve(eq2-q,p)[0]\n",
    "    demandP = demandP-cTax\n",
    "    supplyP = supplyP+pTax\n",
    "\n",
    "    demandQ = sympy.solve(demandP-p,q)[0]\n",
    "    supplyQ = sympy.solve(supplyP-p,q)[0]\n",
    "    \n",
    "    return sympy.solve((demandP-supplyP, demandQ-supplyQ,tax-cTax-pTax), q,p,cTax,pTax)[q]"
   ]
  },
  {
   "cell_type": "code",
   "execution_count": 22,
   "metadata": {},
   "outputs": [
    {
     "data": {
      "application/vnd.jupyter.widget-view+json": {
       "model_id": "5acd259032374dddabcfe1632792aa0e",
       "version_major": 2,
       "version_minor": 0
      },
      "text/html": [
       "<p>Failed to display Jupyter Widget of type <code>interactive</code>.</p>\n",
       "<p>\n",
       "  If you're reading this message in the Jupyter Notebook or JupyterLab Notebook, it may mean\n",
       "  that the widgets JavaScript is still loading. If this message persists, it\n",
       "  likely means that the widgets JavaScript library is either not installed or\n",
       "  not enabled. See the <a href=\"https://ipywidgets.readthedocs.io/en/stable/user_install.html\">Jupyter\n",
       "  Widgets Documentation</a> for setup instructions.\n",
       "</p>\n",
       "<p>\n",
       "  If you're reading this message in another frontend (for example, a static\n",
       "  rendering on GitHub or <a href=\"https://nbviewer.jupyter.org/\">NBViewer</a>),\n",
       "  it may mean that your frontend doesn't currently support widgets.\n",
       "</p>\n"
      ],
      "text/plain": [
       "interactive(children=(IntSlider(value=10, description='demandParam', max=15, min=5), IntSlider(value=3, description='supplyParam', max=5, min=1), IntSlider(value=0, description='priceStart', max=5, min=-5), IntSlider(value=5, description='priceEnd', max=10, min=5), IntSlider(value=4, description='tax', max=8, min=2), Output()), _dom_classes=('widget-interact',))"
      ]
     },
     "metadata": {},
     "output_type": "display_data"
    }
   ],
   "source": [
    "import sympy\n",
    "import matplotlib.pyplot as plt\n",
    "import matplotlib.patches as patches\n",
    "p = sympy.Symbol(\"p\")\n",
    "q = sympy.Symbol(\"q\")\n",
    "cTax = sympy.Symbol(\"cTax\")\n",
    "pTax = sympy.Symbol(\"pTax\")\n",
    "\n",
    "def EquilibriumTax(demandParam,supplyParam,priceStart,priceEnd,tax):\n",
    "    demandEquation = demandParam - p\n",
    "    supplyEquation = p * supplyParam\n",
    "    prices = []\n",
    "    demand = []\n",
    "    supply = []\n",
    "    for price in range(priceStart,priceEnd+1):\n",
    "        prices += [price]\n",
    "        demand += [demandEquation.subs(p,price)]\n",
    "        supply += [supplyEquation.subs(p,price)]\n",
    "        \n",
    "    \n",
    "    \n",
    "    nonTaxPrice = sympy.solve(demandEquation-supplyEquation)[0]\n",
    "    nonTaxQ = demandEquation.subs(p,nonTaxPrice)\n",
    "\n",
    "    \n",
    "    equilibriumQ = eqSolve(demandEquation,supplyEquation,tax)\n",
    "    equilibriumP1 = sympy.solve(demandEquation-equilibriumQ)[0]\n",
    "    equilibriumP2 = sympy.solve(supplyEquation-equilibriumQ)[0]\n",
    "    \n",
    "    triangle1 = patches.Polygon([[nonTaxQ,nonTaxPrice],[equilibriumQ,nonTaxPrice],[equilibriumQ,equilibriumP1]],True,color=\"green\")\n",
    "    triangle2 = patches.Polygon([[nonTaxQ,nonTaxPrice],[equilibriumQ,nonTaxPrice],[equilibriumQ,equilibriumP2]],True)\n",
    "    currentAxis = plt.gca()\n",
    "    currentAxis.add_patch(triangle1)\n",
    "    currentAxis.add_patch(triangle2)\n",
    "    \n",
    "    \n",
    "    rect1 = patches.Rectangle((0,nonTaxPrice),equilibriumQ,equilibriumP1-nonTaxPrice,linewidth=1,facecolor=\"red\")\n",
    "    rect2 = patches.Rectangle((0,nonTaxPrice),equilibriumQ,equilibriumP2-nonTaxPrice,linewidth=1,facecolor=\"yellow\")\n",
    "    currentAxis.add_patch(rect1)\n",
    "    currentAxis.add_patch(rect2)\n",
    "    \n",
    "    plt.plot(demand,prices)\n",
    "    plt.plot(supply,prices)\n",
    "    \n",
    "    \n",
    "    plt.legend([rect1,rect2,triangle1,triangle2], [\"Consumer Tax\",\"Producer Tax\",\"Consumer Deadweight Loss\",\"Producer Deadweight Loss\"])\n",
    "    plt.plot(equilibriumQ,equilibriumP1, 'ro')\n",
    "    plt.plot(equilibriumQ,equilibriumP2, 'ro')\n",
    "    plt.xlabel(\"Supply and Demand Quantity\")\n",
    "    plt.ylabel(\"Price\")\n",
    "    plt.show()\n",
    "    print(\"The equilibrium prices are \"+str(equilibriumP1)+\" and \"+str(equilibriumP2)+\" and equilibrium quantity is \"+str(equilibriumQ)+\".\")\n",
    "    print(\"Taxes raised from consumers equals \"+str(equilibriumQ*(equilibriumP1-nonTaxPrice)))\n",
    "    print(\"Taxes raised from producers equals \"+str(equilibriumQ*(nonTaxPrice-equilibriumP2)))\n",
    "    print(\"Total taxes raised equals \"+str(equilibriumQ*tax))\n",
    "\n",
    "slider1 = widgets.IntSlider(min=5, max=15,step=1,value=10)\n",
    "slider2 = widgets.IntSlider(min=1, max=5,step=1,value=3)\n",
    "slider3 = widgets.IntSlider(min=-5, max=5,step=1,value=0)\n",
    "slider4 = widgets.IntSlider(min=5, max=10,step=1,value=5)\n",
    "slider5 = widgets.IntSlider(min=2, max=8,step=1,value=4)\n",
    "display(widgets.interactive(EquilibriumTax, demandParam=slider1, supplyParam=slider2, priceStart=slider3, priceEnd=slider4, tax=slider5))"
   ]
  },
  {
   "cell_type": "markdown",
   "metadata": {},
   "source": [
    "## Shifts in Slope and effect on DWL, etc."
   ]
  },
  {
   "cell_type": "code",
   "execution_count": null,
   "metadata": {},
   "outputs": [],
   "source": []
  }
 ],
 "metadata": {
  "kernelspec": {
   "display_name": "Python 3",
   "language": "python",
   "name": "python3"
  },
  "language_info": {
   "codemirror_mode": {
    "name": "ipython",
    "version": 3
   },
   "file_extension": ".py",
   "mimetype": "text/x-python",
   "name": "python",
   "nbconvert_exporter": "python",
   "pygments_lexer": "ipython3",
   "version": "3.6.4"
  }
 },
 "nbformat": 4,
 "nbformat_minor": 2
}
