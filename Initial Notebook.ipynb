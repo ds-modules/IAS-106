{
 "cells": [
  {
   "cell_type": "code",
   "execution_count": 3,
   "metadata": {},
   "outputs": [],
   "source": [
    "!pip install -q sympy\n",
    "!pip install -q nbinteract\n",
    "\n",
    "import sympy\n",
    "import matplotlib.pyplot as plt\n",
    "plt.style.use('ggplot')\n",
    "%matplotlib inline"
   ]
  },
  {
   "cell_type": "markdown",
   "metadata": {},
   "source": [
    "Right now I'm thinking that it could be cool to turn this demo into a webpage and use nbinteract. That way the students are able to not have to deal w/ the potential problems that a notebook environment may present. [demo](https://www.nbinteract.com/). There are also pretty cool quiz features that could be made use of. All of the code could be hidden w/ a custom build, then we'd just have the markdown and outputs (the interactive graphs) exposed.\n",
    "\n",
    "look for inspiration from https://github.com/SeanMcOwen/FinanceAndPython.com-EconomicFoundations and http://moneymarketsandmisperceptions.blogspot.com/2016/09/building-supply-and-demand-graphs-in.html"
   ]
  },
  {
   "cell_type": "markdown",
   "metadata": {},
   "source": [
    "## Solving Equations with SymPy\n",
    "\n",
    "If we use nbinteract, we'll be able to just use SymPy in the background and not have to show them how to use it (especially as their first introduction to python). We could just make a widget where they can plug in parameters for an equation and it gets solved.\n",
    "\n",
    "If we want them to be able to make multiple equations, we could add a dictionary where they name and create the equations (and that could be as code-heavy as it gets). Another idea is to make the whole notebook run off of a single supply and single demand equation that is defined at the beginning of the notebook."
   ]
  },
  {
   "cell_type": "code",
   "execution_count": 6,
   "metadata": {},
   "outputs": [],
   "source": [
    "x = sympy.Symbol(\"x\")"
   ]
  },
  {
   "cell_type": "code",
   "execution_count": 10,
   "metadata": {},
   "outputs": [
    {
     "data": {
      "text/plain": [
       "x"
      ]
     },
     "execution_count": 10,
     "metadata": {},
     "output_type": "execute_result"
    }
   ],
   "source": [
    "x"
   ]
  },
  {
   "cell_type": "code",
   "execution_count": 11,
   "metadata": {},
   "outputs": [
    {
     "data": {
      "text/plain": [
       "x**2"
      ]
     },
     "execution_count": 11,
     "metadata": {},
     "output_type": "execute_result"
    }
   ],
   "source": [
    "x*x"
   ]
  },
  {
   "cell_type": "code",
   "execution_count": 12,
   "metadata": {},
   "outputs": [
    {
     "data": {
      "text/plain": [
       "3*x + 4"
      ]
     },
     "execution_count": 12,
     "metadata": {},
     "output_type": "execute_result"
    }
   ],
   "source": [
    "x*3 + 4"
   ]
  },
  {
   "cell_type": "code",
   "execution_count": 15,
   "metadata": {},
   "outputs": [
    {
     "data": {
      "text/plain": [
       "3*x + 4"
      ]
     },
     "execution_count": 15,
     "metadata": {},
     "output_type": "execute_result"
    }
   ],
   "source": [
    "supply = 3*x + 4\n",
    "supply"
   ]
  },
  {
   "cell_type": "code",
   "execution_count": 17,
   "metadata": {},
   "outputs": [
    {
     "data": {
      "text/plain": [
       "13"
      ]
     },
     "execution_count": 17,
     "metadata": {},
     "output_type": "execute_result"
    }
   ],
   "source": [
    "supply.subs(x,3)"
   ]
  },
  {
   "cell_type": "code",
   "execution_count": 21,
   "metadata": {},
   "outputs": [
    {
     "data": {
      "text/plain": [
       "-4*x + 2"
      ]
     },
     "execution_count": 21,
     "metadata": {},
     "output_type": "execute_result"
    }
   ],
   "source": [
    "demand = -4*x+2\n",
    "demand"
   ]
  },
  {
   "cell_type": "code",
   "execution_count": 29,
   "metadata": {},
   "outputs": [
    {
     "data": {
      "text/plain": [
       "-2/7"
      ]
     },
     "execution_count": 29,
     "metadata": {},
     "output_type": "execute_result"
    }
   ],
   "source": [
    "p_star = sympy.solve(demand-supply)[0]\n",
    "p_star"
   ]
  },
  {
   "cell_type": "code",
   "execution_count": 35,
   "metadata": {},
   "outputs": [
    {
     "data": {
      "text/plain": [
       "22/7"
      ]
     },
     "execution_count": 35,
     "metadata": {},
     "output_type": "execute_result"
    }
   ],
   "source": [
    "demand.subs(x, p_star)"
   ]
  },
  {
   "cell_type": "code",
   "execution_count": 36,
   "metadata": {},
   "outputs": [
    {
     "data": {
      "text/plain": [
       "22/7"
      ]
     },
     "execution_count": 36,
     "metadata": {},
     "output_type": "execute_result"
    }
   ],
   "source": [
    "supply.subs(x, p_star)"
   ]
  },
  {
   "cell_type": "markdown",
   "metadata": {},
   "source": [
    "## Visualizing those supply and demand equations"
   ]
  },
  {
   "cell_type": "code",
   "execution_count": 83,
   "metadata": {},
   "outputs": [
    {
     "data": {
      "image/png": "[encoded data removed]",
      "text/plain": [
       "<matplotlib.figure.Figure at 0x7fae75d59ef0>"
      ]
     },
     "metadata": {},
     "output_type": "display_data"
    }
   ],
   "source": [
    "def plot_equation(equation, price_start, price_end, label=None):\n",
    "    plot_prices = [price_start, price_end]\n",
    "    plot_quantities = [equation.subs(list(equation.free_symbols)[0], c) for c in plot_prices]\n",
    "    plt.plot(plot_prices, plot_quantities, label=label)\n",
    "    \n",
    "def plot_intercept(eq1, eq2):\n",
    "    ex = sympy.solve(eq1-eq2)[0]\n",
    "    why = eq1.subs(list(eq1.free_symbols)[0], ex)\n",
    "    plt.scatter([ex], [why])\n",
    "    \n",
    "plot_equation(demand, -50, 100)\n",
    "plot_equation(supply, -50, 100)\n",
    "plot_intercept(supply, demand)"
   ]
  },
  {
   "cell_type": "markdown",
   "metadata": {},
   "source": [
    "## Adding Sliders"
   ]
  },
  {
   "cell_type": "code",
   "execution_count": 88,
   "metadata": {},
   "outputs": [],
   "source": [
    "from ipywidgets import interact\n",
    "import nbinteract as nbi"
   ]
  },
  {
   "cell_type": "code",
   "execution_count": 93,
   "metadata": {},
   "outputs": [
    {
     "data": {
      "application/vnd.jupyter.widget-view+json": {
       "model_id": "955a0ee78e0d439fb74c0954d8852ed7",
       "version_major": 2,
       "version_minor": 0
      },
      "text/html": [
       "<p>Failed to display Jupyter Widget of type <code>VBox</code>.</p>\n",
       "<p>\n",
       "  If you're reading this message in the Jupyter Notebook or JupyterLab Notebook, it may mean\n",
       "  that the widgets JavaScript is still loading. If this message persists, it\n",
       "  likely means that the widgets JavaScript library is either not installed or\n",
       "  not enabled. See the <a href=\"https://ipywidgets.readthedocs.io/en/stable/user_install.html\">Jupyter\n",
       "  Widgets Documentation</a> for setup instructions.\n",
       "</p>\n",
       "<p>\n",
       "  If you're reading this message in another frontend (for example, a static\n",
       "  rendering on GitHub or <a href=\"https://nbviewer.jupyter.org/\">NBViewer</a>),\n",
       "  it may mean that your frontend doesn't currently support widgets.\n",
       "</p>\n"
      ],
      "text/plain": [
       "VBox(children=(HTML(value='<p style=\"line-height:18px;\">What can cause a rightward shift in the demand curve?</p>'), HBox(children=(Button(layout=Layout(height='20px', padding='0', width='20px'), style=ButtonStyle()), HTML(value='<p style=\"line-height:18px;\">The enactment of a price ceiling</p>')), layout=Layout(align_items='center')), HBox(children=(Button(layout=Layout(height='20px', padding='0', width='20px'), style=ButtonStyle()), HTML(value='<p style=\"line-height:18px;\">The invention of more efficient manufacturing process</p>')), layout=Layout(align_items='center')), HBox(children=(Button(layout=Layout(height='20px', padding='0', width='20px'), style=ButtonStyle()), HTML(value='<p style=\"line-height:18px;\">A change in consumer preferences</p>')), layout=Layout(align_items='center'))))"
      ]
     },
     "metadata": {},
     "output_type": "display_data"
    }
   ],
   "source": [
    "nbi.multiple_choice(question=\"What can cause a rightward shift in the demand curve?\",\n",
    "                    choices=['The enactment of a price ceiling', 'The invention of more efficient manufacturing process', 'A change in consumer preferences'],\n",
    "                    answers=2)"
   ]
  },
  {
   "cell_type": "code",
   "execution_count": 85,
   "metadata": {},
   "outputs": [
    {
     "data": {
      "application/vnd.jupyter.widget-view+json": {
       "model_id": "32a4adb2e7d549e686dd2412629a10cf",
       "version_major": 2,
       "version_minor": 0
      },
      "text/html": [
       "<p>Failed to display Jupyter Widget of type <code>interactive</code>.</p>\n",
       "<p>\n",
       "  If you're reading this message in the Jupyter Notebook or JupyterLab Notebook, it may mean\n",
       "  that the widgets JavaScript is still loading. If this message persists, it\n",
       "  likely means that the widgets JavaScript library is either not installed or\n",
       "  not enabled. See the <a href=\"https://ipywidgets.readthedocs.io/en/stable/user_install.html\">Jupyter\n",
       "  Widgets Documentation</a> for setup instructions.\n",
       "</p>\n",
       "<p>\n",
       "  If you're reading this message in another frontend (for example, a static\n",
       "  rendering on GitHub or <a href=\"https://nbviewer.jupyter.org/\">NBViewer</a>),\n",
       "  it may mean that your frontend doesn't currently support widgets.\n",
       "</p>\n"
      ],
      "text/plain": [
       "interactive(children=(IntSlider(value=0, description='shift', max=9, min=-9, step=3), Output()), _dom_classes=('widget-interact',))"
      ]
     },
     "metadata": {},
     "output_type": "display_data"
    }
   ],
   "source": [
    "# need to move supply to outside of functions (for interchangability)\n",
    "# add in equilibriums\n",
    "\n",
    "def plot_shift(equation):\n",
    "    def shift_helper(shift):\n",
    "        plot_equation(equation + shift, -10, 10, 'shifted')\n",
    "        plot_equation(equation, -10, 10)\n",
    "        plot_equation(supply, -10, 10)\n",
    "        plt.xlim(-10,10)\n",
    "        plt.ylim(-10,30)\n",
    "        plt.legend()\n",
    "    interact(shift_helper, shift=(-9, 9, 3))\n",
    "\n",
    "plot_shift(demand)"
   ]
  },
  {
   "cell_type": "markdown",
   "metadata": {},
   "source": [
    "## Shifts in Intercept"
   ]
  },
  {
   "cell_type": "code",
   "execution_count": null,
   "metadata": {},
   "outputs": [],
   "source": []
  },
  {
   "cell_type": "markdown",
   "metadata": {},
   "source": [
    "## Effects of Taxes, Tariffs, Floors, and Ceilings"
   ]
  },
  {
   "cell_type": "code",
   "execution_count": null,
   "metadata": {},
   "outputs": [],
   "source": []
  },
  {
   "cell_type": "markdown",
   "metadata": {},
   "source": [
    "## Shifts in Slope and effect on DWL, etc."
   ]
  },
  {
   "cell_type": "code",
   "execution_count": null,
   "metadata": {},
   "outputs": [],
   "source": []
  }
 ],
 "metadata": {
  "kernelspec": {
   "display_name": "Python 3",
   "language": "python",
   "name": "python3"
  },
  "language_info": {
   "codemirror_mode": {
    "name": "ipython",
    "version": 3
   },
   "file_extension": ".py",
   "mimetype": "text/x-python",
   "name": "python",
   "nbconvert_exporter": "python",
   "pygments_lexer": "ipython3",
   "version": "3.6.1"
  }
 },
 "nbformat": 4,
 "nbformat_minor": 2
}
